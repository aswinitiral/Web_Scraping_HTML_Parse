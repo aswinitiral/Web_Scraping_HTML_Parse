{
 "cells": [
  {
   "cell_type": "markdown",
   "metadata": {},
   "source": [
    "#### Import Libraries\n"
   ]
  },
  {
   "cell_type": "code",
   "execution_count": null,
   "metadata": {},
   "outputs": [],
   "source": [
    "import requests\n",
    "from bs4 import BeautifulSoup\n",
    "import os\n",
    "import pandas as pd"
   ]
  },
  {
   "cell_type": "markdown",
   "metadata": {},
   "source": [
    "#### Web Scraping and Downloading files"
   ]
  },
  {
   "cell_type": "code",
   "execution_count": null,
   "metadata": {},
   "outputs": [],
   "source": [
    "endpoint_url = \"https://www.ncei.noaa.gov/data/local-climatological-data/access/2021/\" \n",
    "response = requests.get(endpoint_url)\n",
    "soup = BeautifulSoup(response.content, 'html.parser')\n",
    "# Find all rows in the table\n",
    "rows = soup.find_all('tr')\n",
    "desired_timestamp = \"2022-02-07 14:03\"\n",
    "for row in rows:\n",
    "        columns = row.find_all('td')\n",
    "if columns:  # Check if the row contains data\n",
    "        file_name = columns[0].a['href']\n",
    "        size = columns[2].get_text(strip=True)\n",
    "        timestamp = columns[1].get_text(strip=True)\n",
    "if timestamp == desired_timestamp:\n",
    "        file_url = f\"{endpoint_url}/{file_name}\"\n",
    "\n",
    "# Download a file and save it as a csv file \n",
    "extracted_folder='extracted_files'\n",
    "# Create a folder to extract files\n",
    "os.makedirs(extracted_folder, exist_ok=True)\n",
    "        \n",
    "response=requests.get(file_url)\n",
    "if response.status_code == 200:\n",
    "        # Extract filename from URI\n",
    "        filename = os.path.join(extracted_folder, os.path.basename(file_url))\n",
    "\n",
    " # write a file inside the extracted folder directory\n",
    "with open(file_name, 'wb') as file:\n",
    "        file.write(response.content)\n",
    "print(f\"CSV file downloaded and saved at: {file_name}\")    "
   ]
  },
  {
   "cell_type": "markdown",
   "metadata": {},
   "source": [
    "#### Open the file with Pandas and find the records with the highest HourlyDryBulbTemperature.\n"
   ]
  },
  {
   "cell_type": "code",
   "execution_count": null,
   "metadata": {},
   "outputs": [],
   "source": [
    "# Print the csv file using dataframe\n",
    "df = pd.read_csv('A5125600451.csv')  \n",
    "pd.set_option('display.max_rows', None)\n",
    "# Selecting multiple columns\n",
    "new_df = df[['NAME', 'REPORT_TYPE','HourlyDryBulbTemperature']]"
   ]
  },
  {
   "cell_type": "markdown",
   "metadata": {},
   "source": [
    "#### Finding the highest HourlyDryBulbTemperature records\n"
   ]
  },
  {
   "cell_type": "code",
   "execution_count": null,
   "metadata": {},
   "outputs": [],
   "source": [
    "# converting the dtype obejct to numeric type\n",
    "new_df['HourlyDryBulbTemperature'] = pd.to_numeric(new_df['HourlyDryBulbTemperature'], errors='coerce')\n",
    "# sort the number of records by decending order\n",
    "sorted_df = new_df.sort_values(by='HourlyDryBulbTemperature', ascending=False)\n",
    "# Finding the highest temperature records \n",
    "max_temperature_records = sorted_df[sorted_df['HourlyDryBulbTemperature'] == sorted_df['HourlyDryBulbTemperature'].max()]\n",
    "max_temperature_records"
   ]
  }
 ],
 "metadata": {
  "kernelspec": {
   "display_name": "base",
   "language": "python",
   "name": "python3"
  },
  "language_info": {
   "codemirror_mode": {
    "name": "ipython",
    "version": 3
   },
   "file_extension": ".py",
   "mimetype": "text/x-python",
   "name": "python",
   "nbconvert_exporter": "python",
   "pygments_lexer": "ipython3",
   "version": "3.9.7"
  },
  "orig_nbformat": 4
 },
 "nbformat": 4,
 "nbformat_minor": 2
}
